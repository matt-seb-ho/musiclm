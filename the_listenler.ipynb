{
 "cells": [
  {
   "cell_type": "code",
   "execution_count": 4,
   "metadata": {},
   "outputs": [],
   "source": [
    "import os\n",
    "from pathlib import Path\n",
    "from IPython.display import Audio, display"
   ]
  },
  {
   "cell_type": "code",
   "execution_count": 8,
   "metadata": {},
   "outputs": [],
   "source": [
    "baseline_dir = Path(\"/data/matt/mg_baseline_output/mc_cond_v1\")\n",
    "ft_dir = Path(\"/data/matt/mg_finetune_output/mc_cond_v1\")"
   ]
  },
  {
   "cell_type": "code",
   "execution_count": 5,
   "metadata": {},
   "outputs": [
    {
     "data": {
      "text/plain": [
       "['mc_test3.wav',\n",
       " 'mc_test18.wav',\n",
       " 'mc_test25.wav',\n",
       " 'mc_test6.wav',\n",
       " 'mc_test14.wav',\n",
       " 'mc_test0.wav',\n",
       " 'mc_test10.wav',\n",
       " 'mc_test7.wav',\n",
       " 'mc_test9.wav',\n",
       " 'mc_test29.wav',\n",
       " 'mc_test23.wav',\n",
       " 'mc_test1.wav',\n",
       " 'mc_test8.wav',\n",
       " 'mc_test2.wav',\n",
       " 'mc_test11.wav',\n",
       " 'mc_test31.wav',\n",
       " 'mc_test15.wav',\n",
       " 'mc_test12.wav',\n",
       " 'mc_test16.wav',\n",
       " 'mc_test17.wav',\n",
       " 'mc_test24.wav',\n",
       " 'mc_test21.wav',\n",
       " 'mc_test13.wav',\n",
       " 'mc_test28.wav',\n",
       " 'mc_test30.wav',\n",
       " 'mc_test4.wav',\n",
       " 'mc_test19.wav',\n",
       " 'mc_test26.wav',\n",
       " 'mc_test22.wav',\n",
       " 'mc_test20.wav',\n",
       " 'mc_test27.wav',\n",
       " 'mc_test5.wav']"
      ]
     },
     "execution_count": 5,
     "metadata": {},
     "output_type": "execute_result"
    }
   ],
   "source": [
    "os.listdir(baseline_dir)"
   ]
  },
  {
   "cell_type": "code",
   "execution_count": 11,
   "metadata": {},
   "outputs": [],
   "source": [
    "# display(\n",
    "#     Audio(\n",
    "#         baseline_dir / \"mc_test4.wav\",\n",
    "#     )\n",
    "# )"
   ]
  },
  {
   "cell_type": "code",
   "execution_count": 10,
   "metadata": {},
   "outputs": [],
   "source": [
    "# display(\n",
    "#     Audio(\n",
    "#         ft_dir / \"mc_test4.wav\",\n",
    "#     )\n",
    "# )"
   ]
  }
 ],
 "metadata": {
  "kernelspec": {
   "display_name": "audiocraft",
   "language": "python",
   "name": "python3"
  },
  "language_info": {
   "codemirror_mode": {
    "name": "ipython",
    "version": 3
   },
   "file_extension": ".py",
   "mimetype": "text/x-python",
   "name": "python",
   "nbconvert_exporter": "python",
   "pygments_lexer": "ipython3",
   "version": "3.9.21"
  }
 },
 "nbformat": 4,
 "nbformat_minor": 2
}
